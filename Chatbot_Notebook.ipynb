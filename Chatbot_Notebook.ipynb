{
  "nbformat": 4,
  "nbformat_minor": 0,
  "metadata": {
    "colab": {
      "provenance": []
    },
    "kernelspec": {
      "name": "python3",
      "display_name": "Python 3"
    },
    "language_info": {
      "name": "python"
    }
  },
  "cells": [
    {
      "cell_type": "markdown",
      "source": [
        "## Set-up Project\n",
        "\n",
        "Install beberapa Library"
      ],
      "metadata": {
        "id": "TMerPI8lMxqX"
      }
    },
    {
      "cell_type": "code",
      "source": [
        "!pip install protobuf==3.20.3\n"
      ],
      "metadata": {
        "colab": {
          "base_uri": "https://localhost:8080/",
          "height": 341
        },
        "id": "QcbXpKgN7M5e",
        "outputId": "7e7c8614-28c9-4bbd-f3cd-ae0f1dfd68f4"
      },
      "execution_count": 1,
      "outputs": [
        {
          "output_type": "stream",
          "name": "stdout",
          "text": [
            "Collecting protobuf==3.20.3\n",
            "  Using cached protobuf-3.20.3-cp310-cp310-manylinux_2_12_x86_64.manylinux2010_x86_64.whl.metadata (679 bytes)\n",
            "Using cached protobuf-3.20.3-cp310-cp310-manylinux_2_12_x86_64.manylinux2010_x86_64.whl (1.1 MB)\n",
            "Installing collected packages: protobuf\n",
            "  Attempting uninstall: protobuf\n",
            "    Found existing installation: protobuf 5.29.2\n",
            "    Uninstalling protobuf-5.29.2:\n",
            "      Successfully uninstalled protobuf-5.29.2\n",
            "\u001b[31mERROR: pip's dependency resolver does not currently take into account all the packages that are installed. This behaviour is the source of the following dependency conflicts.\n",
            "grpcio-status 1.62.3 requires protobuf>=4.21.6, but you have protobuf 3.20.3 which is incompatible.\n",
            "opentelemetry-proto 1.29.0 requires protobuf<6.0,>=5.0, but you have protobuf 3.20.3 which is incompatible.\u001b[0m\u001b[31m\n",
            "\u001b[0mSuccessfully installed protobuf-3.20.3\n"
          ]
        },
        {
          "output_type": "display_data",
          "data": {
            "application/vnd.colab-display-data+json": {
              "pip_warning": {
                "packages": [
                  "google"
                ]
              },
              "id": "829b0623a6244c2e9c8ca98ce9db0faf"
            }
          },
          "metadata": {}
        }
      ]
    },
    {
      "cell_type": "code",
      "execution_count": 2,
      "metadata": {
        "colab": {
          "base_uri": "https://localhost:8080/"
        },
        "id": "qPqnYPCV6zHe",
        "outputId": "0611c6c0-157f-43e8-8cac-2f415555f0ad"
      },
      "outputs": [
        {
          "output_type": "stream",
          "name": "stdout",
          "text": [
            "\u001b[31mERROR: pip's dependency resolver does not currently take into account all the packages that are installed. This behaviour is the source of the following dependency conflicts.\n",
            "tensorflow 2.17.1 requires protobuf!=4.21.0,!=4.21.1,!=4.21.2,!=4.21.3,!=4.21.4,!=4.21.5,<5.0.0dev,>=3.20.3, but you have protobuf 5.29.2 which is incompatible.\n",
            "tensorflow-metadata 1.13.1 requires protobuf<5,>=3.20.3, but you have protobuf 5.29.2 which is incompatible.\u001b[0m\u001b[31m\n",
            "\u001b[0m"
          ]
        }
      ],
      "source": [
        "! pip install -q --upgrade langchain langchain-openai langchain-core langchain_community docx2txt pypdf  langchain_chroma sentence_transformers"
      ]
    },
    {
      "cell_type": "code",
      "source": [
        "import langchain\n",
        "print(langchain.__version__)"
      ],
      "metadata": {
        "colab": {
          "base_uri": "https://localhost:8080/"
        },
        "id": "wk_-CmCX-TaK",
        "outputId": "5b349ffe-ab57-4079-867b-c1ee1782b0d9"
      },
      "execution_count": 3,
      "outputs": [
        {
          "output_type": "stream",
          "name": "stdout",
          "text": [
            "0.3.13\n"
          ]
        }
      ]
    },
    {
      "cell_type": "markdown",
      "source": [
        "### Basic Component in LLM"
      ],
      "metadata": {
        "id": "fO7AwVC1ASIM"
      }
    },
    {
      "cell_type": "markdown",
      "source": [
        "##### Load OpenAI Key and LangSmith Key\n",
        "\n",
        "- Mengintegrasikan LLM provider yang akan digunakan selama project berlangsung, dalam hal ini adalah Open AI\n",
        "- Mengintegrasikan LangSmith sebagai dashboard untuk bisa monitoring setiap pertanyaan yang dikirimkan ke model dan jawaban yang diberikan oleh model"
      ],
      "metadata": {
        "id": "xGzsbTBON697"
      }
    },
    {
      "cell_type": "code",
      "source": [
        "import os\n",
        "os.environ[\"OPENAI_API_KEY\"] = \"YOUR_API_KEY_HERE\""
      ],
      "metadata": {
        "id": "Es-OhOrMAOlx"
      },
      "execution_count": 6,
      "outputs": []
    },
    {
      "cell_type": "code",
      "source": [
        "os.environ[\"LANGCHAIN_TRACING_V2\"] = \"true\"\n",
        "os.environ[\"LANGCHAIN_API_KEY\"] = \"YOUR_API_KEY_HERE\"\n",
        "os.environ[\"LANGCHAIN_PROJECT\"] = \"chatbot-stunting-test\""
      ],
      "metadata": {
        "id": "GHDi3EVLLMKk"
      },
      "execution_count": 7,
      "outputs": []
    },
    {
      "cell_type": "markdown",
      "source": [
        "##### Test LLM"
      ],
      "metadata": {
        "id": "IRd__PN0Ac7b"
      }
    },
    {
      "cell_type": "code",
      "source": [
        "from langchain_openai import ChatOpenAI\n",
        "\n",
        "llm = ChatOpenAI(model=\"gpt-4o-mini\")\n",
        "llm_response = llm.invoke(\"Apa itu stunting\")\n",
        "\n",
        "llm_response"
      ],
      "metadata": {
        "colab": {
          "base_uri": "https://localhost:8080/"
        },
        "id": "Lkm2hJvKAtzH",
        "outputId": "c69f6f97-f532-4250-a606-00b2ad610749"
      },
      "execution_count": 12,
      "outputs": [
        {
          "output_type": "execute_result",
          "data": {
            "text/plain": [
              "AIMessage(content='Stunting adalah kondisi di mana pertumbuhan fisik seorang anak terhambat, biasanya diukur dengan tinggi badan yang lebih rendah dari standar yang ditetapkan untuk usia dan jenis kelamin tertentu. Stunting biasanya disebabkan oleh kekurangan gizi kronis, terutama pada 1.000 hari pertama kehidupan, yaitu sejak kehamilan hingga usia dua tahun. Selain faktor gizi, stunting juga dapat dipengaruhi oleh faktor kesehatan, lingkungan, dan sosial.\\n\\nAnak yang mengalami stunting tidak hanya memiliki tinggi badan yang rendah, tetapi juga berisiko mengalami masalah kesehatan jangka panjang, seperti gangguan perkembangan kognitif, serta peningkatan risiko penyakit di masa dewasa. Oleh karena itu, stunting menjadi perhatian penting bagi kesehatan masyarakat dan pembangunan sumber daya manusia di berbagai negara. Penanganan stunting memerlukan pendekatan holistik yang melibatkan peningkatan gizi, kesehatan, sanitasi, dan pendidikan bagi orang tua dan masyarakat.', additional_kwargs={'refusal': None}, response_metadata={'token_usage': {'completion_tokens': 191, 'prompt_tokens': 11, 'total_tokens': 202, 'completion_tokens_details': {'accepted_prediction_tokens': 0, 'audio_tokens': 0, 'reasoning_tokens': 0, 'rejected_prediction_tokens': 0}, 'prompt_tokens_details': {'audio_tokens': 0, 'cached_tokens': 0}}, 'model_name': 'gpt-4o-mini-2024-07-18', 'system_fingerprint': 'fp_0aa8d3e20b', 'finish_reason': 'stop', 'logprobs': None}, id='run-ad555d2a-14b6-4dd6-90af-74ff996ea93c-0', usage_metadata={'input_tokens': 11, 'output_tokens': 191, 'total_tokens': 202, 'input_token_details': {'audio': 0, 'cache_read': 0}, 'output_token_details': {'audio': 0, 'reasoning': 0}})"
            ]
          },
          "metadata": {},
          "execution_count": 12
        }
      ]
    },
    {
      "cell_type": "markdown",
      "source": [
        "#### Parsing Output"
      ],
      "metadata": {
        "id": "pinSmv-XA8gZ"
      }
    },
    {
      "cell_type": "code",
      "source": [
        "from langchain_core.output_parsers import StrOutputParser\n",
        "\n",
        "output_parser = StrOutputParser()\n",
        "output_parser.invoke(llm_response)"
      ],
      "metadata": {
        "colab": {
          "base_uri": "https://localhost:8080/",
          "height": 208
        },
        "id": "jQYUbryiBAJa",
        "outputId": "aae120a0-9a66-4135-8053-7592b060d8ce"
      },
      "execution_count": 13,
      "outputs": [
        {
          "output_type": "execute_result",
          "data": {
            "text/plain": [
              "'Stunting adalah kondisi di mana pertumbuhan fisik seorang anak terhambat, biasanya diukur dengan tinggi badan yang lebih rendah dari standar yang ditetapkan untuk usia dan jenis kelamin tertentu. Stunting biasanya disebabkan oleh kekurangan gizi kronis, terutama pada 1.000 hari pertama kehidupan, yaitu sejak kehamilan hingga usia dua tahun. Selain faktor gizi, stunting juga dapat dipengaruhi oleh faktor kesehatan, lingkungan, dan sosial.\\n\\nAnak yang mengalami stunting tidak hanya memiliki tinggi badan yang rendah, tetapi juga berisiko mengalami masalah kesehatan jangka panjang, seperti gangguan perkembangan kognitif, serta peningkatan risiko penyakit di masa dewasa. Oleh karena itu, stunting menjadi perhatian penting bagi kesehatan masyarakat dan pembangunan sumber daya manusia di berbagai negara. Penanganan stunting memerlukan pendekatan holistik yang melibatkan peningkatan gizi, kesehatan, sanitasi, dan pendidikan bagi orang tua dan masyarakat.'"
            ],
            "application/vnd.google.colaboratory.intrinsic+json": {
              "type": "string"
            }
          },
          "metadata": {},
          "execution_count": 13
        }
      ]
    },
    {
      "cell_type": "markdown",
      "source": [
        "### RETRIEVAL\n",
        "\n",
        "Menyiapkan dokumen mulai dari:\n",
        "- loading the document\n",
        "- spliting the document\n",
        "- embedding the document\n",
        "- storing the document into vector db\n",
        "\n",
        "Dokumen eksternal yang digunakan:\n",
        "- Buku Panduan Strategi Nasional Percepatan Pencegahan Stunting\n",
        "- Peraturan Menteri Kesehatan Republik Indonesia Nomor 2 Tahun 2020 tentang\n",
        "Standar Antropometri Anak.\n"
      ],
      "metadata": {
        "id": "e4b3sQKUZ_z9"
      }
    },
    {
      "cell_type": "code",
      "source": [],
      "metadata": {
        "id": "Ji8gtQaqaH0w"
      },
      "execution_count": null,
      "outputs": []
    }
  ]
}